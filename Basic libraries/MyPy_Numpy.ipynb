{
 "cells": [
  {
   "cell_type": "markdown",
   "metadata": {},
   "source": [
    "Basic of Numpy"
   ]
  },
  {
   "cell_type": "code",
   "execution_count": null,
   "metadata": {},
   "outputs": [],
   "source": [
    "# importing numpy as np\n",
    "import numpy as np"
   ]
  },
  {
   "cell_type": "markdown",
   "metadata": {},
   "source": [
    "0-D Arrays\n",
    "0-D arrays, or Scalars, are the elements in an array. Each value in an array is a 0-D array."
   ]
  },
  {
   "cell_type": "code",
   "execution_count": null,
   "metadata": {},
   "outputs": [],
   "source": [
    "# 0D array\n",
    "a0 = np.array(42)\n",
    "print(a0)\n",
    "print(type(a0))"
   ]
  },
  {
   "cell_type": "markdown",
   "metadata": {},
   "source": [
    "1-D Arrays\n",
    "An array that has 0-D arrays as its elements is called uni-dimensional or 1-D array.\n",
    "\n",
    "These are the most common and basic arrays."
   ]
  },
  {
   "cell_type": "code",
   "execution_count": null,
   "metadata": {},
   "outputs": [],
   "source": [
    "# 1D array \n",
    "a1 = np.array([1, 2, 3, 4, 5])\n",
    "print(a1)\n",
    "# type of numpy array\n",
    "print(type(a1))\n",
    "\n",
    "\n",
    "# To create an ndarray, we can pass a list, tuple or any array-like object into the array() method, \n",
    "# and it will be converted into an ndarray:\n",
    "\n",
    "b = np.array((1, 2, 3, 4, 5))\n",
    "print(b)\n",
    "print(type(b))\n"
   ]
  },
  {
   "cell_type": "markdown",
   "metadata": {},
   "source": [
    "2-D Arrays\n",
    "An array that has 1-D arrays as its elements is called a 2-D array.\n",
    "\n",
    "These are often used to represent matrix or 2nd order tensors."
   ]
  },
  {
   "cell_type": "code",
   "execution_count": null,
   "metadata": {},
   "outputs": [],
   "source": [
    "# 2D arrays\n",
    "a2 = np.array([[1, 2, 3], [4, 5, 6], [7, 8, 9]])\n",
    "print(a2)"
   ]
  },
  {
   "cell_type": "markdown",
   "metadata": {},
   "source": [
    ">>>\n",
    "3-D arrays\n",
    "An array that has 2-D arrays (matrices) as its elements is called 3-D array.\n",
    "\n",
    "These are often used to represent a 3rd order tensor."
   ]
  },
  {
   "cell_type": "code",
   "execution_count": null,
   "metadata": {},
   "outputs": [],
   "source": [
    "# 3D arrays\n",
    "a3 = np.array([[[1, 2, 3], [4, 5, 6]], [[7, 8, 9], [10, 11, 12]]])\n",
    "print(a3)"
   ]
  },
  {
   "cell_type": "markdown",
   "metadata": {},
   "source": [
    "Check Number of Dimensions?\n",
    "ndim attribute that returns an integer that tells us how many dimensions the array have."
   ]
  },
  {
   "cell_type": "code",
   "execution_count": null,
   "metadata": {},
   "outputs": [],
   "source": [
    "print(a0.ndim)\n",
    "print(a1.ndim)\n",
    "print(a2.ndim)\n",
    "print(a3.ndim)"
   ]
  },
  {
   "cell_type": "markdown",
   "metadata": {},
   "source": [
    "When the array is created, you can define the number of dimensions by using the ndmin argument."
   ]
  },
  {
   "cell_type": "code",
   "execution_count": null,
   "metadata": {},
   "outputs": [],
   "source": [
    "a = np.array([[1, 2, 3], [4, 5, 6]], ndmin=6)\n",
    "print(a)\n",
    "print(a.ndim)"
   ]
  },
  {
   "cell_type": "code",
   "execution_count": null,
   "metadata": {},
   "outputs": [],
   "source": [
    "# Accessing in 1D array\n",
    "a = np.array([1, 2, 3, 4, 5])\n",
    "print(a[3])\n",
    "print(a[-2])"
   ]
  },
  {
   "cell_type": "code",
   "execution_count": null,
   "metadata": {},
   "outputs": [],
   "source": [
    "# Access 2-D Arrays\n",
    "# To access elements from 2-D arrays we can use [row, column]\n",
    "a = np.array([[1, 2, 3], [4, 5, 6], [7, 8, 9]])\n",
    "# use this method\n",
    "print(a[1, 2])\n",
    "print(a[-1, -1])\n",
    "# another method \n",
    "print(a[-1][-1])"
   ]
  },
  {
   "cell_type": "code",
   "execution_count": null,
   "metadata": {},
   "outputs": [],
   "source": [
    "# Access 3D arrays\n",
    "# To access elements from 3-D arrays we can use comma separated integers\n",
    "#  representing the dimensions and the index of the element.\n",
    "\n",
    "arr = np.array([[[1, 2, 3], [4, 5, 6]], [[7, 8, 9], [10, 11, 12]]])\n",
    "print(arr[0, 1, 2])"
   ]
  },
  {
   "cell_type": "markdown",
   "metadata": {},
   "source": [
    "Slicing arrays :- \n",
    "We pass slice instead of index like this: [start:end].\n",
    "We can also define the step, like this: [start:end:step]"
   ]
  },
  {
   "cell_type": "code",
   "execution_count": null,
   "metadata": {},
   "outputs": [],
   "source": [
    "# Slicing of 1D array\n",
    "arr = np.array([1, 2, 3, 4, 5, 6, 7])\n",
    "\n",
    "print(arr[1:5])\n",
    "print(arr[4:])\n",
    "# print(arr[:4]) agar ':' phle hai to iska matlab puri array hota hai\n",
    "print(arr[:4])\n",
    "print(arr[-3:-1])\n",
    "print(arr[1:5:2])"
   ]
  },
  {
   "cell_type": "code",
   "execution_count": null,
   "metadata": {},
   "outputs": [],
   "source": [
    "# Slicing of 2-D Arrays\n",
    "# syntax:- [dimension, start:end:steps]\n",
    "\n",
    "arr = np.array([[1, 2, 3, 4, 5], [6, 7, 8, 9, 10], [11, 12, 13, 14, 15]])\n",
    "\n",
    "print(arr[1, 1:4])\n",
    "print(arr[0:2, 2])\n",
    "print(arr[0:, 1:4])"
   ]
  },
  {
   "cell_type": "markdown",
   "metadata": {},
   "source": [
    "Data Types in NumPy"
   ]
  },
  {
   "cell_type": "code",
   "execution_count": null,
   "metadata": {},
   "outputs": [],
   "source": [
    "a = np.array([1, 2, 3])\n",
    "b = np.array([1.9, 2.8, 3.7])\n",
    "c = np.array([\"1\", \"2\", 3])\n",
    "\n",
    "\n",
    "print(a.dtype)\n",
    "print(b.dtype)\n",
    "print(c.dtype)\n",
    "\n",
    "\"\"\"\n",
    "int32 :- Here int is datatype and 32 is size which means 32bit or (4 Byte)\n",
    "float64 : same with it 64 bit or 8Byte\n",
    "\"\"\""
   ]
  },
  {
   "cell_type": "markdown",
   "metadata": {},
   "source": [
    "Size of Array and its elements"
   ]
  },
  {
   "cell_type": "code",
   "execution_count": null,
   "metadata": {},
   "outputs": [],
   "source": [
    "# Size of array\n",
    "# size return the number of elements in array\n",
    "arr = np.array([[1, 2, 3, 4, 5], [6, 7, 8, 9, 10], [11, 12, 13, 14, 15]])\n",
    "print(arr.size)\n",
    "\n",
    "arr1 = np.array([1, 2, 3, 4, 5, 6])\n",
    "print(arr1.size)"
   ]
  },
  {
   "cell_type": "code",
   "execution_count": null,
   "metadata": {},
   "outputs": [],
   "source": [
    "# Size of elements of array\n",
    "a = np.array([1.9, 2.8, 3.7])\n",
    "print(a.itemsize)\n",
    "\n",
    "a= np.array([1.9, 2.8, 3.7], dtype=\"float16\")\n",
    "print(a.itemsize)"
   ]
  },
  {
   "cell_type": "markdown",
   "metadata": {},
   "source": [
    "Converting Data Type on Existing Arrays : The astype() function creates a copy of the array, and allows you to specify the data type as a parameter."
   ]
  },
  {
   "cell_type": "code",
   "execution_count": null,
   "metadata": {},
   "outputs": [],
   "source": [
    "arr = np.array([1, 0, 3])\n",
    "newarr1 = arr.astype(bool)\n",
    "print(newarr1)\n",
    "print(newarr1.dtype)\n",
    "\n",
    "newarr2 = arr.astype(float)\n",
    "print(newarr2)\n",
    "print(newarr2.dtype)\n",
    "print(newarr2.itemsize)"
   ]
  },
  {
   "cell_type": "markdown",
   "metadata": {},
   "source": [
    "The Difference Between Copy and View: The main difference between a copy and a view of an array is that the copy is a new array, and the view is just a view of the original array."
   ]
  },
  {
   "cell_type": "code",
   "execution_count": null,
   "metadata": {},
   "outputs": [],
   "source": [
    "a = np.array([1, 2, 3])\n",
    "a_copy = a.copy()\n",
    "\n",
    "print(a)\n",
    "print(a_copy)\n",
    "\n",
    "print(\"Changing the value of copy will not affect the original array\")\n",
    "a_copy[2] = 4\n",
    "print(a)\n",
    "print(a_copy)\n",
    "\n",
    "print(\"Changing the value of original array will not affect the copy array\")\n",
    "a[2] = 5\n",
    "print(a)\n",
    "print(a_copy)\n"
   ]
  },
  {
   "cell_type": "code",
   "execution_count": null,
   "metadata": {},
   "outputs": [],
   "source": [
    "a = np.array([1, 2, 3])\n",
    "a_view = a.view()\n",
    "print(a)\n",
    "print(a_view)\n",
    "\n",
    "print(\"Changing the value of view will affect the original array\")\n",
    "a_view[2] = 4\n",
    "print(a)\n",
    "print(a_view)\n",
    "\n",
    "print(\"Changing the value of original array will affect the view array\")\n",
    "a[2] = 5\n",
    "print(a)\n",
    "print(a_view)"
   ]
  },
  {
   "cell_type": "markdown",
   "metadata": {},
   "source": [
    "Check if Array Owns it's Data:\n",
    "As mentioned above, copies owns the data, and views does not own the data, but how can we check this?\n",
    "\n",
    "Every NumPy array has the attribute base that returns None if the array owns the data.\n",
    "\n",
    "Otherwise, the base  attribute refers to the original object."
   ]
  },
  {
   "cell_type": "code",
   "execution_count": null,
   "metadata": {},
   "outputs": [],
   "source": [
    "arr = np.array([1, 2, 3, 4, 5])\n",
    "\n",
    "x = arr.copy()\n",
    "y = arr.view()\n",
    "\n",
    "print(x.base)\n",
    "print(y.base)"
   ]
  },
  {
   "cell_type": "markdown",
   "metadata": {},
   "source": [
    "Shape of an Array:\n",
    "The shape of an array is the number of elements in each dimension.\n",
    "NumPy arrays have an attribute called shape that returns a tuple with each index having the number of corresponding elements.\n",
    "\n"
   ]
  },
  {
   "cell_type": "code",
   "execution_count": null,
   "metadata": {},
   "outputs": [],
   "source": [
    "arr0 = np.array(42)\n",
    "print(arr0.shape)\n",
    "\n",
    "arr1 = np.array([1, 2, 3, 4])\n",
    "print(arr1.shape)\n",
    "\n",
    "\n",
    "arr2 = np.array([[1, 2, 3, 4], [5, 6, 7, 8]])\n",
    "print(arr2.shape)\n",
    "\n",
    "arr3 = np.array([[[1, 2, 3], [4, 5, 6]], [[7, 8, 9], [10, 11, 12]]])\n",
    "print(arr3.shape)\n",
    "\n",
    "# size of shape is equal to the dimension\n",
    "print(len(arr3.shape))\n",
    "\n",
    "# if shape of 3D array contain 3 elements then it means\n",
    "# shape[0] = it contain shape[0] 2D array\n",
    "# shape[1] = it contain shape[1] 1D array\n",
    "# shape[2] = it contain shape[2] 0D array\n",
    "# and so on...\n",
    "\n",
    "arr5 = np.array([1, 2, 3, 4], ndmin=5)\n",
    "\n",
    "\n",
    "\n",
    "\n",
    "print(arr5)\n",
    "print('shape of array :', arr5.shape)"
   ]
  },
  {
   "cell_type": "markdown",
   "metadata": {},
   "source": [
    "Reshaping arrays: \n",
    "Reshaping means changing the shape of an array.\n",
    "By reshaping we can add or remove dimensions or change number of elements in each dimension."
   ]
  },
  {
   "cell_type": "code",
   "execution_count": null,
   "metadata": {},
   "outputs": [],
   "source": [
    "# Reshape from 1D to 2D\n",
    "a1 = np.array([1, 2, 3, 4, 5, 6])\n",
    "new_shape = (2, 3)\n",
    "# new_shape => 2*3 = 6 which is equal to number of elements of 1D array\n",
    "a2 = a1.reshape(new_shape)\n",
    "print(a1)\n",
    "print(a2) \n",
    "# Check if the returned array is a copy or a view:\n",
    "print(a2.base)  # a2 is view"
   ]
  },
  {
   "cell_type": "code",
   "execution_count": null,
   "metadata": {},
   "outputs": [],
   "source": [
    "# Reshape from 2D to 3D\n",
    "a3 = a2.reshape((2, 1, 3))\n",
    "print(a3)\n",
    "print(a3.ndim)\n",
    "print(a3.shape)\n",
    "print(a3.base)"
   ]
  },
  {
   "cell_type": "markdown",
   "metadata": {},
   "source": [
    "Iterating Arrays:\n",
    "Iterating means going through elements one by one."
   ]
  },
  {
   "cell_type": "code",
   "execution_count": null,
   "metadata": {},
   "outputs": [],
   "source": [
    "arr = np.array([[[1, 2, 3], [4, 5, 6]], [[7, 8, 9], [10, 11, 12]]])\n",
    "# Normal method\n",
    "print(\"Normal method\")\n",
    "for i in range(len(arr)):\n",
    "    for j in range(len(arr[0])):\n",
    "        for k in range(len(arr[0][0])):\n",
    "            print(arr[i][j][k], end=\" \")\n",
    "\n",
    "\n",
    "# Numpy method\n",
    "print(\"\\nNumpy method => nditer(arr)\")\n",
    "for i in np.nditer(arr):\n",
    "    print(i, end=\" \")\n",
    "\n",
    "\n",
    "print(\"\\nNumpy 2nd method => nditer(arr)\")\n",
    "for i, ele in np.ndenumerate(arr):\n",
    "    print(f\"{i} index contain -> {ele}\")\n",
    "\n"
   ]
  },
  {
   "cell_type": "markdown",
   "metadata": {},
   "source": [
    "Creating new array using arange method"
   ]
  },
  {
   "cell_type": "code",
   "execution_count": null,
   "metadata": {},
   "outputs": [],
   "source": [
    "# np.arange(start=1, stop=10, step=2)\n",
    "a = np.arange(1, 10, 2)\n",
    "print(a)\n",
    "a = np.arange(1, 6)\n",
    "print(a)"
   ]
  },
  {
   "cell_type": "markdown",
   "metadata": {},
   "source": [
    "Searching Arrays:\n",
    "\n",
    "You can search an array for a certain value, and return the indexes that get a match.\n",
    "\n",
    "To search an array, use the where() method."
   ]
  },
  {
   "cell_type": "code",
   "execution_count": null,
   "metadata": {},
   "outputs": [],
   "source": [
    "# np.where('array_arg' == element)\n",
    "# 'array_arg' this argument is trearted as every element of passed array\n",
    "a = np.arange(1, 11)\n",
    "print(a)\n",
    "index = np.where(a == 4)\n",
    "print(index)\n",
    "print(index[0])\n",
    "print(type(index[0]))\n",
    "print(index[0][0])\n",
    "\n",
    "\n",
    "arr = np.array([1, 2, 3, 4, 5, 4, 4])\n",
    "x = np.where(arr == 4)\n",
    "print(x)\n",
    "# The example above will return a tuple: (array([3, 5, 6],)\n",
    "# Which means that the value 4 is present at index 3, 5, and 6.\n",
    "\n",
    "\n",
    "# Find the indexes where the values are odd:\n",
    "i = np.where(arr%2 != 0)\n",
    "print(\"indexes where the values are odd\", i)\n",
    "print(i[0])\n"
   ]
  },
  {
   "cell_type": "code",
   "execution_count": null,
   "metadata": {},
   "outputs": [],
   "source": [
    "a = np.array([22, 616, 646, 6464,77, 31, 7 , 31, 2, 5])\n",
    "a1 = np.sort(a)\n",
    "print(a1)\n",
    "print(a1.base)      # a1 is cpoy\n",
    "\n",
    "\n",
    "# If you use the sort() method on a 2-D array, both arrays will be sorted:\n",
    "a2 = np.array([[3, 2, 4], [5, 0, 1]])\n",
    "print(np.sort(a2))"
   ]
  },
  {
   "cell_type": "code",
   "execution_count": null,
   "metadata": {},
   "outputs": [],
   "source": [
    "# Missing Data\n",
    "a = np.array([15, 10, np.nan, 3, 2, 5, 6, 4])\n",
    "a\n",
    "print(a.sum()) #results nan\n",
    "# to ignore missing data while operating\n",
    "print(np.nansum(a))\n",
    "# # np.nanmean(a)\n",
    "print(np.isnan(a))\n",
    "print(np.where(np.isnan(a)))"
   ]
  }
 ],
 "metadata": {
  "interpreter": {
   "hash": "697bf48454f8fbee92ecadc5ed1e889e20d6c459fe8a6a7ffc7a3baba5d7a52c"
  },
  "kernelspec": {
   "display_name": "Python 3.9.10 64-bit (windows store)",
   "language": "python",
   "name": "python3"
  },
  "language_info": {
   "codemirror_mode": {
    "name": "ipython",
    "version": 3
   },
   "file_extension": ".py",
   "mimetype": "text/x-python",
   "name": "python",
   "nbconvert_exporter": "python",
   "pygments_lexer": "ipython3",
   "version": "3.9.10"
  },
  "orig_nbformat": 4
 },
 "nbformat": 4,
 "nbformat_minor": 2
}
