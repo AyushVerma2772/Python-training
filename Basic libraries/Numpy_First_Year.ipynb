{
  "cells": [
    {
      "cell_type": "markdown",
      "metadata": {
        "id": "M0nT_pzB14h_"
      },
      "source": [
        "Numpy\n",
        "\n",
        "A numpy array is a collection of homogenous values.\n",
        "\n",
        "All of the same type.\n",
        "Indexed by a tuple of nonnegative integers.\n",
        "The number of dimensions is the rank of the array.\n",
        "The shape of an array is a tuple of integers giving the size of the array along each dimension."
      ]
    },
    {
      "cell_type": "code",
      "execution_count": 1,
      "metadata": {
        "colab": {
          "base_uri": "https://localhost:8080/"
        },
        "id": "byERq_012Tj3",
        "outputId": "82ba67cd-f776-4698-cc8c-a0f8409c8ac7"
      },
      "outputs": [
        {
          "name": "stdout",
          "output_type": "stream",
          "text": [
            "[15 25 14 78 96]\n"
          ]
        },
        {
          "data": {
            "text/plain": [
              "5"
            ]
          },
          "execution_count": 1,
          "metadata": {},
          "output_type": "execute_result"
        }
      ],
      "source": [
        "# 1D array\n",
        "import numpy as np\n",
        "a = np.array([15,25,14,78,96])\n",
        "a\n",
        "type(a)\n",
        "\n",
        "print(a)\n",
        "a.dtype\n",
        "np.size(a)\n"
      ]
    },
    {
      "cell_type": "code",
      "execution_count": 2,
      "metadata": {
        "id": "IT37L2RsPkHx",
        "outputId": "0b59a712-a8b7-469f-8022-4d41c7929466"
      },
      "outputs": [
        {
          "name": "stdout",
          "output_type": "stream",
          "text": [
            "['15' '25' '14' '78' 'A']\n"
          ]
        },
        {
          "data": {
            "text/plain": [
              "5"
            ]
          },
          "execution_count": 2,
          "metadata": {},
          "output_type": "execute_result"
        }
      ],
      "source": [
        "# 1D array\n",
        "import numpy as np\n",
        "a = np.array([15,25,14,78,'A'])\n",
        "a\n",
        "type(a)\n",
        "\n",
        "print(a)\n",
        "a.dtype\n",
        "np.size(a)"
      ]
    },
    {
      "cell_type": "code",
      "execution_count": 3,
      "metadata": {
        "colab": {
          "base_uri": "https://localhost:8080/"
        },
        "id": "iPxtz-nw2j8D",
        "outputId": "6d8b894a-70e1-4970-e37e-213b3c2c178f"
      },
      "outputs": [
        {
          "name": "stdout",
          "output_type": "stream",
          "text": [
            "[15. 25. 14. 78. 96.]\n"
          ]
        },
        {
          "data": {
            "text/plain": [
              "dtype('float64')"
            ]
          },
          "execution_count": 3,
          "metadata": {},
          "output_type": "execute_result"
        }
      ],
      "source": [
        "# changing the datatype\n",
        "a.dtype\n",
        "a = np.array([15,25,14,78,96],dtype = \"float\")\n",
        "print(a)\n",
        "a.dtype"
      ]
    },
    {
      "cell_type": "code",
      "execution_count": 4,
      "metadata": {
        "colab": {
          "base_uri": "https://localhost:8080/"
        },
        "id": "X9ehbxba2uUq",
        "outputId": "f85d4a85-6089-4473-c097-5e1eac274561"
      },
      "outputs": [
        {
          "name": "stdout",
          "output_type": "stream",
          "text": [
            "[0 1 2 3 4 5 6 7 8 9]\n",
            "[20 21 22 23 24 25 26 27 28 29]\n",
            "[]\n"
          ]
        }
      ],
      "source": [
        "# Creating the sequence of numbers using **arange** function\n",
        "\n",
        "a = np.arange(10) \n",
        "print(a)\n",
        "# b = np.arange(start = 20,stop = 30)  #OR\n",
        "b = np.arange(20,30)\n",
        "print(b)\n",
        "\n",
        "c = np.arange(20,30,-3)       #arange(start,stop,stepsize)  \n",
        "print(c) "
      ]
    },
    {
      "cell_type": "code",
      "execution_count": 5,
      "metadata": {
        "colab": {
          "base_uri": "https://localhost:8080/"
        },
        "id": "zWyOQyts20rf",
        "outputId": "b33bc7b8-fe76-4f98-ef68-07dc6ef7bdd4"
      },
      "outputs": [
        {
          "name": "stdout",
          "output_type": "stream",
          "text": [
            "[20 21 22 23 24 25 26 27 28 29]\n",
            "20\n",
            "25\n",
            "29\n"
          ]
        },
        {
          "data": {
            "text/plain": [
              "array([20, 21, 22, 23, 24])"
            ]
          },
          "execution_count": 5,
          "metadata": {},
          "output_type": "execute_result"
        }
      ],
      "source": [
        "## Indexing [starts from 0]\n",
        "print(b)\n",
        "print(b[0])\n",
        "print(b[5])\n",
        "print(b[-1])\n",
        "\n",
        "b[:5]  # first five elements"
      ]
    },
    {
      "cell_type": "code",
      "execution_count": 6,
      "metadata": {
        "id": "ry7_sG5-247e"
      },
      "outputs": [
        {
          "name": "stdout",
          "output_type": "stream",
          "text": [
            "[0 1 2 3 4 5 6 7 8 9]\n",
            "[0 1 2 3 4]\n",
            "[5 6 7 8 9]\n",
            "[4 5 6]\n",
            "[0 1 2 3 4 5 6 7 8 9]\n",
            "[1 3 5 7 9]\n",
            "[9 8 7 6 5 4 3 2 1 0]\n",
            "[5 3 1]\n"
          ]
        }
      ],
      "source": [
        "# One dimentional sub arrays\n",
        "d = np.arange(10)\n",
        "print(d)\n",
        "\n",
        "print(d[:5])  # first five elements\n",
        "print(d[5:])  # elements after index 5\n",
        "print(d[4:7])  # middle sub-array 4 to 6\n",
        "\n",
        "# Getting a little more fancy [startindex:endindex:stepsize]\n",
        "\n",
        "print(d[::])  # every alternate element\n",
        "print(d[1::2])  # every alternate element, starting at index 1\n",
        "print(d[::-1]) # all elements, reversed\n",
        "print(d[5::-2])  # reversed every other from index 5 "
      ]
    },
    {
      "cell_type": "code",
      "execution_count": 7,
      "metadata": {
        "id": "tDsx4sWB2-O5"
      },
      "outputs": [
        {
          "name": "stdout",
          "output_type": "stream",
          "text": [
            "[[1 2 3 4]\n",
            " [4 5 6 7]\n",
            " [8 9 1 2]]\n",
            "[[1 2 3]\n",
            " [4 5 6]]\n",
            "[[6 5 4]\n",
            " [3 2 1]]\n"
          ]
        },
        {
          "data": {
            "text/plain": [
              "array([[4, 5, 6],\n",
              "       [1, 2, 3]])"
            ]
          },
          "execution_count": 7,
          "metadata": {},
          "output_type": "execute_result"
        }
      ],
      "source": [
        "## Multi Dimentional Array\n",
        "# e = np.array([[1, 2, 3], [4, 5, 6]], 'i4')\n",
        "e = np.array([[1, 2, 3,4], [4, 5, 6,7],[8,9,1,2]], dtype = np.int32)\n",
        "# e = np.array([[1, 2, 3], [4, 5, 6]], np.int32)\n",
        "type(e)\n",
        "print(e)\n",
        "#Slicing and sub array\n",
        "f = e[:2, :3] ## first two rows and three columns\n",
        "print(f)\n",
        "# #subarray dimensions can even be reversed together:\n",
        "print(f[::-1, ::-1])\n",
        "f[::, ::-1]\n",
        "f[::-1, ::]"
      ]
    },
    {
      "cell_type": "code",
      "execution_count": 8,
      "metadata": {
        "id": "spAuoxqg3B8L"
      },
      "outputs": [
        {
          "name": "stdout",
          "output_type": "stream",
          "text": [
            "[[1 2 3]\n",
            " [4 5 6]]\n",
            "[1 4]\n",
            "[1 2 3]\n",
            "[1 2 3]\n"
          ]
        }
      ],
      "source": [
        "#Accessing array rows and columns\n",
        "\n",
        "print(f)\n",
        "print(f[:, 0])  # first column of array\n",
        "print(f[0, :])  # first row of array\n",
        "print(f[0])  # equivalent to array[0, :]"
      ]
    },
    {
      "cell_type": "code",
      "execution_count": 9,
      "metadata": {
        "colab": {
          "base_uri": "https://localhost:8080/"
        },
        "id": "KbD189xv3G4z",
        "outputId": "f74e5691-566f-4a9f-82ce-2f9ef133cd98"
      },
      "outputs": [
        {
          "name": "stdout",
          "output_type": "stream",
          "text": [
            "[[ 1  2  3  4  5  6]\n",
            " [ 7  8  9 10 11 12]]\n",
            "[[ 1  2  3  4]\n",
            " [ 5  6  7  8]\n",
            " [ 9 10 11 12]]\n"
          ]
        }
      ],
      "source": [
        "# Reshaping the arrays \n",
        "f = np.arange(1,13).reshape(2,6) #row*column must be equal to no of element in array/matrix\n",
        "print(f)\n",
        "\n",
        "\n",
        "f.resize(3,4)        # to modify the shape of original array     \n",
        "print(f)\n",
        "# f.reshape(3,4)      # it returns array but not modify original array\n",
        "# print(f)"
      ]
    },
    {
      "cell_type": "code",
      "execution_count": 44,
      "metadata": {
        "id": "0AteiyX-3J7F"
      },
      "outputs": [
        {
          "name": "stdout",
          "output_type": "stream",
          "text": [
            "nan\n",
            "45.0\n",
            "[False False  True False False False False False]\n",
            "(array([2], dtype=int64),)\n"
          ]
        }
      ],
      "source": [
        "# Missing Data\n",
        "a = np.array([15, 10, np.nan, 3, 2, 5, 6, 4])\n",
        "a\n",
        "print(a.sum()) #results nan\n",
        "# to ignore missing data while operating\n",
        "print(np.nansum(a))\n",
        "# # np.nanmean(a)\n",
        "print(np.isnan(a))\n",
        "print(np.where(np.isnan(a)))"
      ]
    },
    {
      "cell_type": "code",
      "execution_count": 11,
      "metadata": {
        "id": "YUbTK5633OOQ"
      },
      "outputs": [
        {
          "name": "stdout",
          "output_type": "stream",
          "text": [
            "[[10 20 30]\n",
            " [40 50 60]]\n",
            "2\n",
            "6\n",
            "(2, 3)\n"
          ]
        }
      ],
      "source": [
        "#2D arrays\n",
        "g = np.array([(10,20,30),(40,50,60)])\n",
        "#Alternatively\n",
        "g = np.array([[10,20,30],[40,50,60]])\n",
        "print(g)\n",
        "print(g.ndim)     #dimension\n",
        "print(g.size)     #Total Elements\n",
        "print(g.shape)    #order"
      ]
    },
    {
      "cell_type": "code",
      "execution_count": 12,
      "metadata": {
        "colab": {
          "base_uri": "https://localhost:8080/"
        },
        "id": "iTbdgsh93TkW",
        "outputId": "65263d07-23b2-450f-b7bd-dcb7c49898fa"
      },
      "outputs": [
        {
          "data": {
            "text/plain": [
              "array([[0., 0., 0., 0.],\n",
              "       [0., 0., 0., 0.]])"
            ]
          },
          "execution_count": 12,
          "metadata": {},
          "output_type": "execute_result"
        }
      ],
      "source": [
        "# Creating some usual matrices \n",
        "a=np.zeros((2,4)) ##Alternatively\n",
        "# a = np.zeros([2,4],dtype=np.int16)\n",
        "a "
      ]
    },
    {
      "cell_type": "code",
      "execution_count": 13,
      "metadata": {
        "id": "6MipG8PYPkH1",
        "outputId": "6d4d765b-b899-4943-83dc-c341bc025323"
      },
      "outputs": [
        {
          "data": {
            "text/plain": [
              "array([[1, 1, 1, 1],\n",
              "       [1, 1, 1, 1]], dtype=int16)"
            ]
          },
          "execution_count": 13,
          "metadata": {},
          "output_type": "execute_result"
        }
      ],
      "source": [
        "a = np.ones([2,4],dtype=np.int16)\n",
        "a "
      ]
    },
    {
      "cell_type": "code",
      "execution_count": 46,
      "metadata": {
        "colab": {
          "base_uri": "https://localhost:8080/"
        },
        "id": "c9aePnbk3Wb9",
        "outputId": "04d46220-e3c9-438f-9219-ceb5c5dbfd0a"
      },
      "outputs": [
        {
          "name": "stdout",
          "output_type": "stream",
          "text": [
            "[[99 99]\n",
            " [99 99]]\n",
            "[[nan nan nan nan nan]\n",
            " [nan nan nan nan nan]\n",
            " [nan nan nan nan nan]\n",
            " [nan nan nan nan nan]\n",
            " [nan nan nan nan nan]]\n"
          ]
        }
      ],
      "source": [
        "# Any other number\n",
        "print(np.full((2,2), 99))\n",
        "print(np.full((5,5),np.nan))"
      ]
    },
    {
      "cell_type": "code",
      "execution_count": 15,
      "metadata": {
        "colab": {
          "base_uri": "https://localhost:8080/"
        },
        "id": "jFR-KHUn3aSi",
        "outputId": "c537614d-1afa-40ca-c47c-d693bd8d16bd"
      },
      "outputs": [
        {
          "data": {
            "text/plain": [
              "array([[0.16118206, 0.52269961, 0.79602478],\n",
              "       [0.80320518, 0.56826197, 0.16937888],\n",
              "       [0.67583248, 0.54071804, 0.32590031],\n",
              "       [0.26868209, 0.82675137, 0.93178696]])"
            ]
          },
          "execution_count": 15,
          "metadata": {},
          "output_type": "execute_result"
        }
      ],
      "source": [
        "# Random decimal numbers\n",
        "np.random.rand(4,3)"
      ]
    },
    {
      "cell_type": "code",
      "execution_count": 16,
      "metadata": {
        "colab": {
          "base_uri": "https://localhost:8080/",
          "height": 235
        },
        "id": "GJxha8j63dNm",
        "outputId": "7887141f-21bc-4543-d371-e2e29e1323a7"
      },
      "outputs": [
        {
          "name": "stdout",
          "output_type": "stream",
          "text": [
            "[[10  0 20  0]\n",
            " [30  0 40  0]\n",
            " [50  0 60  0]]\n",
            "[[1. 1. 1.]\n",
            " [1. 1. 1.]\n",
            " [1. 1. 1.]]\n",
            "[[14  0  0  0  0]\n",
            " [ 0 15  0  0  0]\n",
            " [ 0  0 16  0  0]\n",
            " [ 0  0  0 17  0]\n",
            " [ 0  0  0  0 18]]\n"
          ]
        }
      ],
      "source": [
        "# To get a matrix of all random numbers from \n",
        "i= np.empty((3,4),dtype=np.int16) # try with dtype=float16\n",
        "print(i)\n",
        "# To create a matrix of unity\n",
        "print(np.ones([3,3]))     \n",
        "# To create a diagonal matrix \n",
        "print(np.diag([14,15,16,17,18]))"
      ]
    },
    {
      "cell_type": "code",
      "execution_count": 17,
      "metadata": {
        "colab": {
          "base_uri": "https://localhost:8080/"
        },
        "id": "18Wrbwr23jp3",
        "outputId": "1accc51d-aae3-46ca-c269-3c9fe864bbf9"
      },
      "outputs": [
        {
          "data": {
            "text/plain": [
              "array([[ 7,  4,  7],\n",
              "       [ 6, -4,  0],\n",
              "       [ 3,  4,  2]])"
            ]
          },
          "execution_count": 17,
          "metadata": {},
          "output_type": "execute_result"
        }
      ],
      "source": [
        "# Random Integer values\n",
        "np.random.randint(-4,8, size=(3,3))"
      ]
    },
    {
      "cell_type": "code",
      "execution_count": 18,
      "metadata": {
        "colab": {
          "base_uri": "https://localhost:8080/"
        },
        "id": "rbdeEZHm3pPx",
        "outputId": "72cdc67a-57db-4fae-acfc-fda24228a79b"
      },
      "outputs": [
        {
          "data": {
            "text/plain": [
              "array([[1., 0., 0., 0., 0.],\n",
              "       [0., 1., 0., 0., 0.],\n",
              "       [0., 0., 1., 0., 0.],\n",
              "       [0., 0., 0., 1., 0.],\n",
              "       [0., 0., 0., 0., 1.]])"
            ]
          },
          "execution_count": 18,
          "metadata": {},
          "output_type": "execute_result"
        }
      ],
      "source": [
        "# The identity matrix\n",
        "np.identity(5)   #OR\n",
        "np.eye(5)"
      ]
    },
    {
      "cell_type": "code",
      "execution_count": 19,
      "metadata": {
        "colab": {
          "base_uri": "https://localhost:8080/"
        },
        "id": "_tWxTI_83uGv",
        "outputId": "ba600437-2ff5-4306-b788-3e8ad73d50fa"
      },
      "outputs": [
        {
          "name": "stdout",
          "output_type": "stream",
          "text": [
            "[[1 2 3]\n",
            " [1 2 3]\n",
            " [1 2 3]]\n"
          ]
        }
      ],
      "source": [
        "\n",
        "a = np.array([[1,2,3]])\n",
        "b = np.repeat(a,3, axis=0)      # Repeat an array\n",
        "print(b)"
      ]
    },
    {
      "cell_type": "code",
      "execution_count": 20,
      "metadata": {
        "colab": {
          "base_uri": "https://localhost:8080/"
        },
        "id": "VU1_v_bt3yyu",
        "outputId": "a17be463-e0fe-4f64-867d-8945863d4339"
      },
      "outputs": [
        {
          "name": "stdout",
          "output_type": "stream",
          "text": [
            "[10 20 30 40 50 60]\n",
            "[[10 20]\n",
            " [30 40]\n",
            " [50 60]]\n",
            "(2, 3)\n",
            "None\n"
          ]
        },
        {
          "data": {
            "text/plain": [
              "array([[10, 20],\n",
              "       [30, 40],\n",
              "       [50, 60]])"
            ]
          },
          "execution_count": 20,
          "metadata": {},
          "output_type": "execute_result"
        }
      ],
      "source": [
        "a = np.array([[10,20,30],[40,50,60]])\n",
        "a\n",
        "print(a.ravel())         # To get a flattened 1D array\n",
        "\n",
        "print(a.reshape(3,2))        # returns the array with a modified shape\n",
        "a\n",
        "print(a.shape)\n",
        "\n",
        "print(a.resize((3,2)))       #  resize( ) will modify the shape in the original array\n",
        "a"
      ]
    },
    {
      "cell_type": "code",
      "execution_count": 21,
      "metadata": {
        "id": "C5JvSL1x33a3"
      },
      "outputs": [
        {
          "data": {
            "text/plain": [
              "array([[ 0.53846154, -0.15384615,  0.07692308],\n",
              "       [-0.51282051, -0.28205128,  0.30769231],\n",
              "       [-0.07692308,  0.30769231, -0.15384615]])"
            ]
          },
          "execution_count": 21,
          "metadata": {},
          "output_type": "execute_result"
        }
      ],
      "source": [
        "# create some arrays A,b and B\n",
        "A = np.array([[2,0,1],[4,3,8],[7,6,9]])\n",
        "b = np.array([1,101,14])\n",
        "B = np.array([[10,20,30],[40,50,60],[70,80,90]])\n",
        "B\n",
        "# #transpose\n",
        "A\n",
        "A.T\n",
        "#A.transpose()  ##Alternatively\n",
        "# # trace : sum along diagonal\n",
        "np.trace(A)\n",
        "# #Inverse\n",
        "np.linalg.inv(A)"
      ]
    },
    {
      "cell_type": "code",
      "execution_count": 22,
      "metadata": {
        "colab": {
          "base_uri": "https://localhost:8080/",
          "height": 235
        },
        "id": "UxH44Y0K4AC3",
        "outputId": "41a10780-7602-4f63-e58f-b7ccfe34884b"
      },
      "outputs": [
        {
          "name": "stdout",
          "output_type": "stream",
          "text": [
            "[[2 0 1]\n",
            " [4 3 8]\n",
            " [7 6 9]]\n",
            "[[10 20 30]\n",
            " [40 50 60]\n",
            " [70 80 90]]\n",
            "[[12 20 31]\n",
            " [44 53 68]\n",
            " [77 86 99]]\n",
            "[[ -8 -20 -29]\n",
            " [-36 -47 -52]\n",
            " [-63 -74 -81]]\n",
            "[[  90  120  150]\n",
            " [ 720  870 1020]\n",
            " [ 940 1160 1380]]\n",
            "[[  90  120  150]\n",
            " [ 720  870 1020]\n",
            " [ 940 1160 1380]]\n"
          ]
        }
      ],
      "source": [
        "print(A)\n",
        "print(B)\n",
        "\n",
        "# Matrix addition and subtraction\n",
        "print(A+B)\n",
        "print(A-B)\n",
        "\n",
        "# Matrix multiplication\n",
        "print(A.dot(B))     #OR\n",
        "print(A @ B)"
      ]
    },
    {
      "cell_type": "code",
      "execution_count": 23,
      "metadata": {
        "id": "FFhuZ9sR4Dv_"
      },
      "outputs": [
        {
          "data": {
            "text/plain": [
              "array([[2.20264658e+04, 4.85165195e+08, 1.06864746e+13],\n",
              "       [2.35385267e+17, 5.18470553e+21, 1.14200739e+26],\n",
              "       [2.51543867e+30, 5.54062238e+34, 1.22040329e+39]])"
            ]
          },
          "execution_count": 23,
          "metadata": {},
          "output_type": "execute_result"
        }
      ],
      "source": [
        "# other operations\n",
        "\n",
        "np.absolute(B)\n",
        "np.sqrt(B)\n",
        "np.exp(B)"
      ]
    },
    {
      "cell_type": "code",
      "execution_count": 24,
      "metadata": {
        "colab": {
          "base_uri": "https://localhost:8080/"
        },
        "id": "-lr3YonQ4Inv",
        "outputId": "a6460524-e304-4d14-dfb8-a7a5e50f73f9"
      },
      "outputs": [
        {
          "name": "stdout",
          "output_type": "stream",
          "text": [
            "[[1 2 3]\n",
            " [4 5 6]\n",
            " [7 8 9]]\n",
            "45\n",
            "1\n",
            "9\n",
            "5.0\n",
            "2.581988897471611\n",
            "6.666666666666667\n"
          ]
        },
        {
          "data": {
            "text/plain": [
              "8"
            ]
          },
          "execution_count": 24,
          "metadata": {},
          "output_type": "execute_result"
        }
      ],
      "source": [
        "A = np.arange(1,10).reshape(3,3)\n",
        "print(A)\n",
        "\n",
        "print(A.sum())\n",
        "print(A.min())\n",
        "print(A.max())\n",
        "print(A.mean())\n",
        "print(A.std()) #Standard deviation\n",
        "print(A.var())  #variance\n",
        "\n",
        "# to obtain the index of the minimum and maximum elements\n",
        "A.argmin()\n",
        "A.argmax()\n"
      ]
    },
    {
      "cell_type": "code",
      "execution_count": 25,
      "metadata": {
        "id": "zBS0hugD4MzU"
      },
      "outputs": [
        {
          "data": {
            "text/plain": [
              "array([[ 1,  3,  6],\n",
              "       [ 4,  9, 15],\n",
              "       [ 7, 15, 24]], dtype=int32)"
            ]
          },
          "execution_count": 25,
          "metadata": {},
          "output_type": "execute_result"
        }
      ],
      "source": [
        "# find the above statistics for each row or column\n",
        "A\n",
        "A.sum(axis=0)  #Each column Sum            \n",
        "A.mean(axis = 0) \n",
        "A.std(axis = 0)\n",
        "A.argmin(axis = 0)\n",
        "A.min(axis=1)\n",
        "A.argmax(axis = 1)\n",
        "# find the cumulative sum along each row\n",
        "A.cumsum(axis=1)"
      ]
    },
    {
      "cell_type": "code",
      "execution_count": 26,
      "metadata": {
        "id": "ccmiz-wM4Rio"
      },
      "outputs": [
        {
          "data": {
            "text/plain": [
              "array([2, 3, 4])"
            ]
          },
          "execution_count": 26,
          "metadata": {},
          "output_type": "execute_result"
        }
      ],
      "source": [
        "# Indexing in arrays\n",
        "x = np.arange(10)\n",
        "x\n",
        "x[2]\n",
        "x[2:5]"
      ]
    },
    {
      "cell_type": "code",
      "execution_count": 27,
      "metadata": {
        "id": "5S_uB98U4VfM"
      },
      "outputs": [
        {
          "data": {
            "text/plain": [
              "(array([0, 2, 6], dtype=int64),)"
            ]
          },
          "execution_count": 27,
          "metadata": {},
          "output_type": "execute_result"
        }
      ],
      "source": [
        "# Find out position of elements that satisfy a given condition\n",
        "a = np.array([8, 3, 7, 0, 4, 2, 5, 2])\n",
        "np.where(a > 4)"
      ]
    },
    {
      "cell_type": "code",
      "execution_count": 28,
      "metadata": {
        "id": "7e2gRcV64YN9"
      },
      "outputs": [
        {
          "name": "stdout",
          "output_type": "stream",
          "text": [
            "[11 13 15 17 19 21 23 25 27 29 31 33]\n",
            "[11 13 21 17 25 29]\n"
          ]
        }
      ],
      "source": [
        "# Indexing with Arrays of Indices\n",
        "x = np.arange(11,35,2)                    \n",
        "print(x)\n",
        "# array i which subsets the elements of x by taking assigned indices\n",
        "i = np.array( [0,1,5,3,7,9 ] )\n",
        "print(x[i])"
      ]
    },
    {
      "cell_type": "code",
      "execution_count": 29,
      "metadata": {
        "id": "LTNLmpAU4cXR"
      },
      "outputs": [
        {
          "name": "stdout",
          "output_type": "stream",
          "text": [
            "[11 13 21 17 25 29]\n"
          ]
        }
      ],
      "source": [
        "# array i which subsets the elements of x\n",
        "i = np.array( [0,1,5,3,7,9 ] )\n",
        "print(x[i]) "
      ]
    },
    {
      "cell_type": "code",
      "execution_count": 30,
      "metadata": {
        "id": "0nPJn2ls4gXd"
      },
      "outputs": [
        {
          "name": "stdout",
          "output_type": "stream",
          "text": [
            "[[0 1]\n",
            " [6 2]] \n",
            " [[11 13]\n",
            " [23 15]]\n"
          ]
        }
      ],
      "source": [
        "# create a 2D array j of indices to subset x.\n",
        "j = np.array( [ [ 0, 1], [ 6, 2 ] ] )    \n",
        "print(j,\"\\n\",x[j]) "
      ]
    },
    {
      "cell_type": "code",
      "execution_count": 31,
      "metadata": {
        "id": "1BvbkGtP4jPI"
      },
      "outputs": [
        {
          "name": "stdout",
          "output_type": "stream",
          "text": [
            "[[ 0  1  2  3]\n",
            " [ 4  5  6  7]\n",
            " [ 8  9 10 11]]\n"
          ]
        },
        {
          "data": {
            "text/plain": [
              "array([[ 0,  1,  2,  3],\n",
              "       [ 4, 12, 12, 12],\n",
              "       [12, 12, 12, 12]])"
            ]
          },
          "execution_count": 31,
          "metadata": {},
          "output_type": "execute_result"
        }
      ],
      "source": [
        "# indexing with Boolean arrays\n",
        "a = np.arange(12).reshape(3,4)\n",
        "print(a)\n",
        "b = a > 4\n",
        "b     \n",
        "# Note that 'b' is a Boolean with same shape as that of 'a'.\n",
        "# 0 select the elements from 'a' which adhere to condition 'b'\n",
        "a[b]   \n",
        "a[b] = 12   \n",
        "a "
      ]
    },
    {
      "cell_type": "markdown",
      "metadata": {
        "id": "wxEuO9e54rQl"
      },
      "source": [
        "Mathematics"
      ]
    },
    {
      "cell_type": "code",
      "execution_count": 32,
      "metadata": {
        "id": "URduavRa4smg"
      },
      "outputs": [
        {
          "name": "stdout",
          "output_type": "stream",
          "text": [
            "[1 2 3 4]\n"
          ]
        }
      ],
      "source": [
        "a = np.array([1,2,3,4])\n",
        "print(a)"
      ]
    },
    {
      "cell_type": "code",
      "execution_count": 33,
      "metadata": {
        "id": "5c_ebZFc4wvr"
      },
      "outputs": [
        {
          "data": {
            "text/plain": [
              "array([0.5, 1. , 1.5, 2. ])"
            ]
          },
          "execution_count": 33,
          "metadata": {},
          "output_type": "execute_result"
        }
      ],
      "source": [
        "a + 2\n",
        "a - 2\n",
        "a * 2\n",
        "a / 2"
      ]
    },
    {
      "cell_type": "code",
      "execution_count": 34,
      "metadata": {
        "id": "phIPd31546Mm"
      },
      "outputs": [
        {
          "data": {
            "text/plain": [
              "array([2, 2, 4, 4])"
            ]
          },
          "execution_count": 34,
          "metadata": {},
          "output_type": "execute_result"
        }
      ],
      "source": [
        "b = np.array([1,0,1,0])\n",
        "a + b"
      ]
    },
    {
      "cell_type": "code",
      "execution_count": 35,
      "metadata": {
        "id": "vdcXN6k149eq"
      },
      "outputs": [
        {
          "data": {
            "text/plain": [
              "array([ 1,  4,  9, 16], dtype=int32)"
            ]
          },
          "execution_count": 35,
          "metadata": {},
          "output_type": "execute_result"
        }
      ],
      "source": [
        "a ** 2"
      ]
    },
    {
      "cell_type": "code",
      "execution_count": 36,
      "metadata": {
        "id": "TMbRm_BF5A5M"
      },
      "outputs": [
        {
          "data": {
            "text/plain": [
              "array([ 0.54030231, -0.41614684, -0.9899925 , -0.65364362])"
            ]
          },
          "execution_count": 36,
          "metadata": {},
          "output_type": "execute_result"
        }
      ],
      "source": [
        "# Take the sin\n",
        "np.cos(a)"
      ]
    },
    {
      "cell_type": "markdown",
      "metadata": {
        "id": "UuJ0MyHk5F3I"
      },
      "source": [
        "Linear Algebra"
      ]
    },
    {
      "cell_type": "code",
      "execution_count": 37,
      "metadata": {
        "id": "K2EuBbNE5J_J"
      },
      "outputs": [
        {
          "name": "stdout",
          "output_type": "stream",
          "text": [
            "[[1. 1. 1.]\n",
            " [1. 1. 1.]]\n",
            "[[2 2]\n",
            " [2 2]\n",
            " [2 2]]\n"
          ]
        },
        {
          "data": {
            "text/plain": [
              "array([[6., 6.],\n",
              "       [6., 6.]])"
            ]
          },
          "execution_count": 37,
          "metadata": {},
          "output_type": "execute_result"
        }
      ],
      "source": [
        "a = np.ones((2,3))\n",
        "print(a)\n",
        "\n",
        "b = np.full((3,2), 2)\n",
        "print(b)\n",
        "\n",
        "np.matmul(a,b)"
      ]
    },
    {
      "cell_type": "code",
      "execution_count": 38,
      "metadata": {
        "id": "rkJITFwR5Nst"
      },
      "outputs": [
        {
          "name": "stdout",
          "output_type": "stream",
          "text": [
            "[[1. 0. 0.]\n",
            " [0. 1. 0.]\n",
            " [0. 0. 1.]]\n"
          ]
        },
        {
          "data": {
            "text/plain": [
              "1.0"
            ]
          },
          "execution_count": 38,
          "metadata": {},
          "output_type": "execute_result"
        }
      ],
      "source": [
        "# Find the determinant\n",
        "c = np.identity(3)\n",
        "print(c)\n",
        "np.linalg.det(c)"
      ]
    },
    {
      "cell_type": "code",
      "execution_count": 39,
      "metadata": {
        "id": "Cmx-X8u45RjW"
      },
      "outputs": [],
      "source": [
        "## Reference docs (https://docs.scipy.org/doc/numpy/reference/routines.linalg.html)\n",
        "\n",
        "# Determinant\n",
        "# Trace\n",
        "# Singular Vector Decomposition\n",
        "# Eigenvalues\n",
        "# Matrix Norm\n",
        "# Inverse\n",
        "# Etc..."
      ]
    },
    {
      "cell_type": "markdown",
      "metadata": {
        "id": "Nco1awF65ZNQ"
      },
      "source": [
        "Reorganizing Arrays"
      ]
    },
    {
      "cell_type": "code",
      "execution_count": 40,
      "metadata": {
        "colab": {
          "base_uri": "https://localhost:8080/"
        },
        "id": "dfjMZexv5aBR",
        "outputId": "49c4dd63-af76-40c8-db55-b06aedcb3c88"
      },
      "outputs": [
        {
          "data": {
            "text/plain": [
              "array([[1, 2, 3, 4],\n",
              "       [5, 6, 7, 8],\n",
              "       [1, 2, 3, 4],\n",
              "       [5, 6, 7, 8]])"
            ]
          },
          "execution_count": 40,
          "metadata": {},
          "output_type": "execute_result"
        }
      ],
      "source": [
        "import numpy as np\n",
        "# Vertically stacking vectors\n",
        "v1 = np.array([1,2,3,4])\n",
        "v2 = np.array([5,6,7,8])\n",
        "\n",
        "np.vstack([v1,v2,v1,v2])"
      ]
    },
    {
      "cell_type": "code",
      "execution_count": 41,
      "metadata": {
        "colab": {
          "base_uri": "https://localhost:8080/"
        },
        "id": "V2vXBwcE5eEw",
        "outputId": "02720f63-a8ae-48ef-fdc1-d109df97c487"
      },
      "outputs": [
        {
          "data": {
            "text/plain": [
              "array([[1., 1., 1., 1., 0., 0.],\n",
              "       [1., 1., 1., 1., 0., 0.]])"
            ]
          },
          "execution_count": 41,
          "metadata": {},
          "output_type": "execute_result"
        }
      ],
      "source": [
        "# Horizontal  stack\n",
        "h1 = np.ones((2,4))\n",
        "h2 = np.zeros((2,2))\n",
        "h1\n",
        "h2\n",
        "np.hstack((h1,h2))"
      ]
    },
    {
      "cell_type": "markdown",
      "metadata": {
        "id": "etSYF_Jc5kzj"
      },
      "source": [
        "Miscellaneous\n",
        "\n",
        "\n",
        "Load Data from File"
      ]
    },
    {
      "cell_type": "code",
      "execution_count": 42,
      "metadata": {
        "id": "ZQeTo1z-5op5"
      },
      "outputs": [
        {
          "ename": "OSError",
          "evalue": "/data.txt not found.",
          "output_type": "error",
          "traceback": [
            "\u001b[1;31m---------------------------------------------------------------------------\u001b[0m",
            "\u001b[1;31mOSError\u001b[0m                                   Traceback (most recent call last)",
            "\u001b[1;32mc:\\Users\\AYUSH\\PycharmProjects\\Machine Learning\\Basic libraries\\Numpy_First_Year.ipynb Cell 47'\u001b[0m in \u001b[0;36m<module>\u001b[1;34m\u001b[0m\n\u001b[1;32m----> <a href='vscode-notebook-cell:/c%3A/Users/AYUSH/PycharmProjects/Machine%20Learning/Basic%20libraries/Numpy_First_Year.ipynb#ch0000046?line=0'>1</a>\u001b[0m filedata \u001b[39m=\u001b[39m np\u001b[39m.\u001b[39;49mgenfromtxt(\u001b[39m'\u001b[39;49m\u001b[39m/data.txt\u001b[39;49m\u001b[39m'\u001b[39;49m, delimiter\u001b[39m=\u001b[39;49m\u001b[39m'\u001b[39;49m\u001b[39m,\u001b[39;49m\u001b[39m'\u001b[39;49m)\n\u001b[0;32m      <a href='vscode-notebook-cell:/c%3A/Users/AYUSH/PycharmProjects/Machine%20Learning/Basic%20libraries/Numpy_First_Year.ipynb#ch0000046?line=1'>2</a>\u001b[0m filedata \u001b[39m=\u001b[39m filedata\u001b[39m.\u001b[39mastype(\u001b[39m'\u001b[39m\u001b[39mint32\u001b[39m\u001b[39m'\u001b[39m)\n\u001b[0;32m      <a href='vscode-notebook-cell:/c%3A/Users/AYUSH/PycharmProjects/Machine%20Learning/Basic%20libraries/Numpy_First_Year.ipynb#ch0000046?line=2'>3</a>\u001b[0m \u001b[39mprint\u001b[39m(filedata)\n",
            "File \u001b[1;32m~\\AppData\\Local\\Packages\\PythonSoftwareFoundation.Python.3.9_qbz5n2kfra8p0\\LocalCache\\local-packages\\Python39\\site-packages\\numpy\\lib\\npyio.py:1793\u001b[0m, in \u001b[0;36mgenfromtxt\u001b[1;34m(fname, dtype, comments, delimiter, skip_header, skip_footer, converters, missing_values, filling_values, usecols, names, excludelist, deletechars, replace_space, autostrip, case_sensitive, defaultfmt, unpack, usemask, loose, invalid_raise, max_rows, encoding, like)\u001b[0m\n\u001b[0;32m   <a href='file:///~/AppData/Local/Packages/PythonSoftwareFoundation.Python.3.9_qbz5n2kfra8p0/LocalCache/local-packages/Python39/site-packages/numpy/lib/npyio.py?line=1790'>1791</a>\u001b[0m     fname \u001b[39m=\u001b[39m os_fspath(fname)\n\u001b[0;32m   <a href='file:///~/AppData/Local/Packages/PythonSoftwareFoundation.Python.3.9_qbz5n2kfra8p0/LocalCache/local-packages/Python39/site-packages/numpy/lib/npyio.py?line=1791'>1792</a>\u001b[0m \u001b[39mif\u001b[39;00m \u001b[39misinstance\u001b[39m(fname, \u001b[39mstr\u001b[39m):\n\u001b[1;32m-> <a href='file:///~/AppData/Local/Packages/PythonSoftwareFoundation.Python.3.9_qbz5n2kfra8p0/LocalCache/local-packages/Python39/site-packages/numpy/lib/npyio.py?line=1792'>1793</a>\u001b[0m     fid \u001b[39m=\u001b[39m np\u001b[39m.\u001b[39;49mlib\u001b[39m.\u001b[39;49m_datasource\u001b[39m.\u001b[39;49mopen(fname, \u001b[39m'\u001b[39;49m\u001b[39mrt\u001b[39;49m\u001b[39m'\u001b[39;49m, encoding\u001b[39m=\u001b[39;49mencoding)\n\u001b[0;32m   <a href='file:///~/AppData/Local/Packages/PythonSoftwareFoundation.Python.3.9_qbz5n2kfra8p0/LocalCache/local-packages/Python39/site-packages/numpy/lib/npyio.py?line=1793'>1794</a>\u001b[0m     fid_ctx \u001b[39m=\u001b[39m contextlib\u001b[39m.\u001b[39mclosing(fid)\n\u001b[0;32m   <a href='file:///~/AppData/Local/Packages/PythonSoftwareFoundation.Python.3.9_qbz5n2kfra8p0/LocalCache/local-packages/Python39/site-packages/numpy/lib/npyio.py?line=1794'>1795</a>\u001b[0m \u001b[39melse\u001b[39;00m:\n",
            "File \u001b[1;32m~\\AppData\\Local\\Packages\\PythonSoftwareFoundation.Python.3.9_qbz5n2kfra8p0\\LocalCache\\local-packages\\Python39\\site-packages\\numpy\\lib\\_datasource.py:193\u001b[0m, in \u001b[0;36mopen\u001b[1;34m(path, mode, destpath, encoding, newline)\u001b[0m\n\u001b[0;32m    <a href='file:///~/AppData/Local/Packages/PythonSoftwareFoundation.Python.3.9_qbz5n2kfra8p0/LocalCache/local-packages/Python39/site-packages/numpy/lib/_datasource.py?line=155'>156</a>\u001b[0m \u001b[39m\"\"\"\u001b[39;00m\n\u001b[0;32m    <a href='file:///~/AppData/Local/Packages/PythonSoftwareFoundation.Python.3.9_qbz5n2kfra8p0/LocalCache/local-packages/Python39/site-packages/numpy/lib/_datasource.py?line=156'>157</a>\u001b[0m \u001b[39mOpen `path` with `mode` and return the file object.\u001b[39;00m\n\u001b[0;32m    <a href='file:///~/AppData/Local/Packages/PythonSoftwareFoundation.Python.3.9_qbz5n2kfra8p0/LocalCache/local-packages/Python39/site-packages/numpy/lib/_datasource.py?line=157'>158</a>\u001b[0m \n\u001b[1;32m   (...)\u001b[0m\n\u001b[0;32m    <a href='file:///~/AppData/Local/Packages/PythonSoftwareFoundation.Python.3.9_qbz5n2kfra8p0/LocalCache/local-packages/Python39/site-packages/numpy/lib/_datasource.py?line=188'>189</a>\u001b[0m \n\u001b[0;32m    <a href='file:///~/AppData/Local/Packages/PythonSoftwareFoundation.Python.3.9_qbz5n2kfra8p0/LocalCache/local-packages/Python39/site-packages/numpy/lib/_datasource.py?line=189'>190</a>\u001b[0m \u001b[39m\"\"\"\u001b[39;00m\n\u001b[0;32m    <a href='file:///~/AppData/Local/Packages/PythonSoftwareFoundation.Python.3.9_qbz5n2kfra8p0/LocalCache/local-packages/Python39/site-packages/numpy/lib/_datasource.py?line=191'>192</a>\u001b[0m ds \u001b[39m=\u001b[39m DataSource(destpath)\n\u001b[1;32m--> <a href='file:///~/AppData/Local/Packages/PythonSoftwareFoundation.Python.3.9_qbz5n2kfra8p0/LocalCache/local-packages/Python39/site-packages/numpy/lib/_datasource.py?line=192'>193</a>\u001b[0m \u001b[39mreturn\u001b[39;00m ds\u001b[39m.\u001b[39;49mopen(path, mode, encoding\u001b[39m=\u001b[39;49mencoding, newline\u001b[39m=\u001b[39;49mnewline)\n",
            "File \u001b[1;32m~\\AppData\\Local\\Packages\\PythonSoftwareFoundation.Python.3.9_qbz5n2kfra8p0\\LocalCache\\local-packages\\Python39\\site-packages\\numpy\\lib\\_datasource.py:533\u001b[0m, in \u001b[0;36mDataSource.open\u001b[1;34m(self, path, mode, encoding, newline)\u001b[0m\n\u001b[0;32m    <a href='file:///~/AppData/Local/Packages/PythonSoftwareFoundation.Python.3.9_qbz5n2kfra8p0/LocalCache/local-packages/Python39/site-packages/numpy/lib/_datasource.py?line=529'>530</a>\u001b[0m     \u001b[39mreturn\u001b[39;00m _file_openers[ext](found, mode\u001b[39m=\u001b[39mmode,\n\u001b[0;32m    <a href='file:///~/AppData/Local/Packages/PythonSoftwareFoundation.Python.3.9_qbz5n2kfra8p0/LocalCache/local-packages/Python39/site-packages/numpy/lib/_datasource.py?line=530'>531</a>\u001b[0m                               encoding\u001b[39m=\u001b[39mencoding, newline\u001b[39m=\u001b[39mnewline)\n\u001b[0;32m    <a href='file:///~/AppData/Local/Packages/PythonSoftwareFoundation.Python.3.9_qbz5n2kfra8p0/LocalCache/local-packages/Python39/site-packages/numpy/lib/_datasource.py?line=531'>532</a>\u001b[0m \u001b[39melse\u001b[39;00m:\n\u001b[1;32m--> <a href='file:///~/AppData/Local/Packages/PythonSoftwareFoundation.Python.3.9_qbz5n2kfra8p0/LocalCache/local-packages/Python39/site-packages/numpy/lib/_datasource.py?line=532'>533</a>\u001b[0m     \u001b[39mraise\u001b[39;00m \u001b[39mIOError\u001b[39;00m(\u001b[39m\"\u001b[39m\u001b[39m%s\u001b[39;00m\u001b[39m not found.\u001b[39m\u001b[39m\"\u001b[39m \u001b[39m%\u001b[39m path)\n",
            "\u001b[1;31mOSError\u001b[0m: /data.txt not found."
          ]
        }
      ],
      "source": [
        "filedata = np.genfromtxt('/data.txt', delimiter=',')\n",
        "filedata = filedata.astype('int32')\n",
        "print(filedata)"
      ]
    },
    {
      "cell_type": "code",
      "execution_count": null,
      "metadata": {
        "id": "doTrsJJL5rdo",
        "outputId": "a7235c59-571e-4dc2-8fa7-42bb8a170855"
      },
      "outputs": [],
      "source": [
        "dir(np)"
      ]
    },
    {
      "cell_type": "code",
      "execution_count": null,
      "metadata": {
        "id": "IFGX3UWIPkH7"
      },
      "outputs": [],
      "source": []
    }
  ],
  "metadata": {
    "colab": {
      "collapsed_sections": [],
      "name": "Numpy First Year.ipynb",
      "provenance": []
    },
    "kernelspec": {
      "display_name": "Python 3",
      "language": "python",
      "name": "python3"
    },
    "language_info": {
      "codemirror_mode": {
        "name": "ipython",
        "version": 3
      },
      "file_extension": ".py",
      "mimetype": "text/x-python",
      "name": "python",
      "nbconvert_exporter": "python",
      "pygments_lexer": "ipython3",
      "version": "3.9.10"
    }
  },
  "nbformat": 4,
  "nbformat_minor": 0
}
